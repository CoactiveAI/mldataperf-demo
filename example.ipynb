{
 "cells": [
  {
   "cell_type": "markdown",
   "id": "bdac21e0",
   "metadata": {},
   "source": [
    "This notebook is based on [\"Similarity Search for Efficient Active Learning and Search of Rare Concepts\"](https://arxiv.org/abs/2007.00077)"
   ]
  },
  {
   "cell_type": "markdown",
   "id": "6f86add7",
   "metadata": {},
   "source": [
    "# Prerequisites\n",
    "\n",
    "1. Clone repo: `git clone git@github.com:CoactiveAI/mldataperf-demo.git`\n",
    "2. Move into repo: `cd mldataperf-demo`\n",
    "3. Install dependencies: `pip install -e .`\n",
    "4. [Install faiss](https://github.com/facebookresearch/faiss/blob/master/INSTALL.md)\n",
    "5. [Download embeddings](https://drive.google.com/file/d/1HLEI7OWDGfP-__w6vlnZjgOCo5fshP-7/view?usp=sharing) (~18 GB)\n",
    "6. Unpack embeddings: `tar -xvf data.tar.gz`"
   ]
  },
  {
   "cell_type": "markdown",
   "id": "9f3b5081",
   "metadata": {},
   "source": [
    "# Demo"
   ]
  },
  {
   "cell_type": "code",
   "execution_count": 2,
   "id": "3d1bdd06",
   "metadata": {},
   "outputs": [],
   "source": [
    "import numpy as np\n",
    "\n",
    "from dataperf import active as demo"
   ]
  },
  {
   "cell_type": "code",
   "execution_count": 3,
   "id": "36650527",
   "metadata": {},
   "outputs": [
    {
     "name": "stdout",
     "output_type": "stream",
     "text": [
      "Loading metadata... Done.\n"
     ]
    },
    {
     "data": {
      "application/vnd.jupyter.widget-view+json": {
       "model_id": "6c2cff3c405448ea8afd1e32a73c75ea",
       "version_major": 2,
       "version_minor": 0
      },
      "text/plain": [
       "Loading embeddings:   0%|          | 0/94 [00:00<?, ?partition/s]"
      ]
     },
     "metadata": {},
     "output_type": "display_data"
    },
    {
     "name": "stdout",
     "output_type": "stream",
     "text": [
      "Shape of embeddings for training images: (8121242, 256)\n",
      "Loading metadata... Done.\n"
     ]
    },
    {
     "data": {
      "application/vnd.jupyter.widget-view+json": {
       "model_id": "af0071a5da3d4eed91c72dcd61061821",
       "version_major": 2,
       "version_minor": 0
      },
      "text/plain": [
       "Loading embeddings:   0%|          | 0/16 [00:00<?, ?partition/s]"
      ]
     },
     "metadata": {},
     "output_type": "display_data"
    },
    {
     "name": "stdout",
     "output_type": "stream",
     "text": [
      "Shape of embeddings for test images: (113508, 256)\n"
     ]
    }
   ],
   "source": [
    "metadata_dir='data/saved_metadata/'\n",
    "train_dir='data/saved_embeddings/train/'\n",
    "test_dir='data/saved_embeddings/test/'\n",
    "\n",
    "# Create training dataset object\n",
    "if 'd_train' not in locals():\n",
    "    d_train = demo.create_dataset(metadata_dir, train_dir, 'train')\n",
    "print(\"Shape of embeddings for training images: {}\".format(d_train.embeddings.shape))\n",
    "\n",
    "# Do the same for the test set\n",
    "if 'd_test' not in locals():\n",
    "    d_test = demo.create_dataset(metadata_dir, test_dir, 'test')\n",
    "print(\"Shape of embeddings for test images: {}\".format(d_test.embeddings.shape))\n",
    "\n",
    "# Create IndexWrapper for training data\n",
    "if 'index_train' not in locals():\n",
    "    index_train = demo.create_index(d_train)\n",
    "\n",
    "# Set rare concept (e.g. Bowling, Sushi, Rat, Beach, Hawk, Cupcake, Crowd, etc)\n",
    "concept = 'Bowling'\n",
    "\n",
    "# Set concept\n",
    "d_train.target_class = concept\n",
    "d_test.target_class = concept"
   ]
  },
  {
   "cell_type": "code",
   "execution_count": 7,
   "id": "0f19d0f5",
   "metadata": {
    "scrolled": false
   },
   "outputs": [
    {
     "name": "stdout",
     "output_type": "stream",
     "text": [
      "Finished labeling 5 images\n"
     ]
    }
   ],
   "source": [
    "'''\n",
    "First you will see 5 examples of the concept (e.g., Bowling).\n",
    "Then press any key to start active learning.\n",
    "\n",
    "During active learning:\n",
    "1 -> yes, the concept is in the image\n",
    "0 -> no, the concept is not in the image\n",
    "'''\n",
    "np.random.seed(400)\n",
    "model, scores = demo.seals(train=d_train,\n",
    "                           test=d_test,\n",
    "                           knn=index_train,\n",
    "                           concept=concept,\n",
    "                           npos=5, nneg=300,\n",
    "                           rounds=[5, 5, 5, 5, 5])"
   ]
  },
  {
   "cell_type": "code",
   "execution_count": 8,
   "id": "26345d60",
   "metadata": {},
   "outputs": [
    {
     "name": "stderr",
     "output_type": "stream",
     "text": [
      "No handles with labels found to put in legend.\n"
     ]
    },
    {
     "data": {
      "image/png": "[encoded data removed]",
      "text/plain": [
       "<Figure size 432x288 with 1 Axes>"
      ]
     },
     "metadata": {
      "needs_background": "light"
     },
     "output_type": "display_data"
    }
   ],
   "source": [
    "demo.visualize_scores(scores)"
   ]
  },
  {
   "cell_type": "code",
   "execution_count": null,
   "id": "bd4de336",
   "metadata": {},
   "outputs": [],
   "source": []
  },
  {
   "cell_type": "code",
   "execution_count": null,
   "id": "401627bb",
   "metadata": {},
   "outputs": [],
   "source": []
  },
  {
   "cell_type": "code",
   "execution_count": null,
   "id": "fcbb4996",
   "metadata": {},
   "outputs": [],
   "source": []
  },
  {
   "cell_type": "code",
   "execution_count": null,
   "id": "9174c52a",
   "metadata": {},
   "outputs": [],
   "source": []
  },
  {
   "cell_type": "code",
   "execution_count": null,
   "id": "4aa6842d",
   "metadata": {},
   "outputs": [],
   "source": []
  },
  {
   "cell_type": "code",
   "execution_count": null,
   "id": "d791b5d0",
   "metadata": {},
   "outputs": [],
   "source": []
  },
  {
   "cell_type": "code",
   "execution_count": null,
   "id": "a97896ff",
   "metadata": {},
   "outputs": [],
   "source": []
  },
  {
   "cell_type": "code",
   "execution_count": null,
   "id": "84f71939",
   "metadata": {},
   "outputs": [],
   "source": []
  },
  {
   "cell_type": "code",
   "execution_count": null,
   "id": "142b5c94",
   "metadata": {},
   "outputs": [],
   "source": []
  },
  {
   "cell_type": "code",
   "execution_count": null,
   "id": "57297561",
   "metadata": {},
   "outputs": [],
   "source": []
  },
  {
   "cell_type": "code",
   "execution_count": null,
   "id": "19013938",
   "metadata": {},
   "outputs": [],
   "source": []
  },
  {
   "cell_type": "code",
   "execution_count": null,
   "id": "88d96952",
   "metadata": {},
   "outputs": [],
   "source": []
  },
  {
   "cell_type": "code",
   "execution_count": null,
   "id": "e89af68e",
   "metadata": {},
   "outputs": [],
   "source": []
  },
  {
   "cell_type": "code",
   "execution_count": null,
   "id": "f722193f",
   "metadata": {},
   "outputs": [],
   "source": []
  },
  {
   "cell_type": "code",
   "execution_count": null,
   "id": "89b1e70c",
   "metadata": {},
   "outputs": [],
   "source": []
  },
  {
   "cell_type": "code",
   "execution_count": null,
   "id": "8b3b8632",
   "metadata": {},
   "outputs": [],
   "source": []
  },
  {
   "cell_type": "code",
   "execution_count": null,
   "id": "d7e37410",
   "metadata": {},
   "outputs": [],
   "source": []
  }
 ],
 "metadata": {
  "kernelspec": {
   "display_name": "Python 3",
   "language": "python",
   "name": "python3"
  },
  "language_info": {
   "codemirror_mode": {
    "name": "ipython",
    "version": 3
   },
   "file_extension": ".py",
   "mimetype": "text/x-python",
   "name": "python",
   "nbconvert_exporter": "python",
   "pygments_lexer": "ipython3",
   "version": "3.8.8"
  }
 },
 "nbformat": 4,
 "nbformat_minor": 5
}
